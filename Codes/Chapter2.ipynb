{
 "cells": [
  {
   "cell_type": "markdown",
   "metadata": {
    "deletable": true,
    "editable": true
   },
   "source": [
    "# Listing 2-1. Import TensorFlow and numpy Library"
   ]
  },
  {
   "cell_type": "code",
   "execution_count": 1,
   "metadata": {
    "collapsed": true,
    "deletable": true,
    "editable": true
   },
   "outputs": [],
   "source": [
    "import tensorflow as tf\n",
    "import numpy as np\n"
   ]
  },
  {
   "cell_type": "markdown",
   "metadata": {
    "deletable": true,
    "editable": true
   },
   "source": [
    "# Listing 2-2.Activate a TensorFlow Interactive Session "
   ]
  },
  {
   "cell_type": "code",
   "execution_count": 2,
   "metadata": {
    "collapsed": false,
    "deletable": true,
    "editable": true
   },
   "outputs": [
    {
     "data": {
      "text/plain": [
       "<tensorflow.python.client.session.InteractiveSession at 0x7fc8acd29610>"
      ]
     },
     "execution_count": 2,
     "metadata": {},
     "output_type": "execute_result"
    }
   ],
   "source": [
    "tf.InteractiveSession() "
   ]
  },
  {
   "cell_type": "markdown",
   "metadata": {
    "deletable": true,
    "editable": true
   },
   "source": [
    "# Listing 2-3. Defining Tensors "
   ]
  },
  {
   "cell_type": "code",
   "execution_count": 3,
   "metadata": {
    "collapsed": true,
    "deletable": true,
    "editable": true
   },
   "outputs": [],
   "source": [
    "a = tf.zeros((2,2));\n",
    "b = tf.ones((2,2)) "
   ]
  },
  {
   "cell_type": "markdown",
   "metadata": {
    "deletable": true,
    "editable": true
   },
   "source": [
    "# Listing 2-4. Sum the elements of the matrix (2D Tensor) across the horizontal axis "
   ]
  },
  {
   "cell_type": "code",
   "execution_count": 4,
   "metadata": {
    "collapsed": false,
    "deletable": true,
    "editable": true
   },
   "outputs": [
    {
     "data": {
      "text/plain": [
       "array([ 2.,  2.], dtype=float32)"
      ]
     },
     "execution_count": 4,
     "metadata": {},
     "output_type": "execute_result"
    }
   ],
   "source": [
    "tf.reduce_sum(b,reduction_indices = 1).eval() "
   ]
  },
  {
   "cell_type": "markdown",
   "metadata": {
    "deletable": true,
    "editable": true
   },
   "source": [
    "# Listing 2-5. Check the shape of the Tensor "
   ]
  },
  {
   "cell_type": "code",
   "execution_count": 5,
   "metadata": {
    "collapsed": false,
    "deletable": true,
    "editable": true
   },
   "outputs": [
    {
     "data": {
      "text/plain": [
       "TensorShape([Dimension(2), Dimension(2)])"
      ]
     },
     "execution_count": 5,
     "metadata": {},
     "output_type": "execute_result"
    }
   ],
   "source": [
    "a.get_shape() "
   ]
  },
  {
   "cell_type": "markdown",
   "metadata": {
    "deletable": true,
    "editable": true
   },
   "source": [
    "# Listing 2-6. Reshaping a Tensor "
   ]
  },
  {
   "cell_type": "code",
   "execution_count": 6,
   "metadata": {
    "collapsed": false,
    "deletable": true,
    "editable": true
   },
   "outputs": [
    {
     "data": {
      "text/plain": [
       "array([[ 0.,  0.,  0.,  0.]], dtype=float32)"
      ]
     },
     "execution_count": 6,
     "metadata": {},
     "output_type": "execute_result"
    }
   ],
   "source": [
    "tf.reshape(a,(1,4)).eval() "
   ]
  },
  {
   "cell_type": "markdown",
   "metadata": {
    "deletable": true,
    "editable": true
   },
   "source": [
    "# Listing 2-7. Explicit evaluation in TensorFlow and difference with Numpy"
   ]
  },
  {
   "cell_type": "code",
   "execution_count": 7,
   "metadata": {
    "collapsed": false,
    "deletable": true,
    "editable": true
   },
   "outputs": [
    {
     "name": "stdout",
     "output_type": "stream",
     "text": [
      "Tensor(\"zeros_1:0\", shape=(2, 2), dtype=float32)\n"
     ]
    }
   ],
   "source": [
    "ta = tf.zeros((2,2))\n",
    "print(ta) "
   ]
  },
  {
   "cell_type": "code",
   "execution_count": 8,
   "metadata": {
    "collapsed": false,
    "deletable": true,
    "editable": true
   },
   "outputs": [
    {
     "name": "stdout",
     "output_type": "stream",
     "text": [
      "[[ 0.  0.]\n",
      " [ 0.  0.]]\n"
     ]
    }
   ],
   "source": [
    "print(ta.eval()) "
   ]
  },
  {
   "cell_type": "code",
   "execution_count": 9,
   "metadata": {
    "collapsed": false,
    "deletable": true,
    "editable": true
   },
   "outputs": [
    {
     "name": "stdout",
     "output_type": "stream",
     "text": [
      "[[ 0.  0.]\n",
      " [ 0.  0.]]\n"
     ]
    }
   ],
   "source": [
    "a = np.zeros((2,2))\n",
    "print(a) "
   ]
  },
  {
   "cell_type": "markdown",
   "metadata": {
    "deletable": true,
    "editable": true
   },
   "source": [
    "# Listing 2-8.Defining TensorFlow Constants "
   ]
  },
  {
   "cell_type": "code",
   "execution_count": 10,
   "metadata": {
    "collapsed": true,
    "deletable": true,
    "editable": true
   },
   "outputs": [],
   "source": [
    "a = tf.constant(1)\n",
    "b = tf.constant(5)\n",
    "c= a*b "
   ]
  },
  {
   "cell_type": "markdown",
   "metadata": {
    "deletable": true,
    "editable": true
   },
   "source": [
    "# Listing 2-9. TensorFlow Sesssion for executive of the Commands through Run and Eval "
   ]
  },
  {
   "cell_type": "code",
   "execution_count": 12,
   "metadata": {
    "collapsed": false,
    "deletable": true,
    "editable": true
   },
   "outputs": [
    {
     "name": "stdout",
     "output_type": "stream",
     "text": [
      "5\n",
      "5\n"
     ]
    }
   ],
   "source": [
    "with tf.Session() as sess:\n",
    "    print(c.eval())\n",
    "    print(sess.run(c)) "
   ]
  },
  {
   "cell_type": "markdown",
   "metadata": {
    "deletable": true,
    "editable": true
   },
   "source": [
    "# Listing 2-10a.Defining TensorFlow variables "
   ]
  },
  {
   "cell_type": "code",
   "execution_count": 29,
   "metadata": {
    "collapsed": false,
    "deletable": true,
    "editable": true
   },
   "outputs": [],
   "source": [
    "w = tf.ones((2,2),name='weights')\n"
   ]
  },
  {
   "cell_type": "markdown",
   "metadata": {
    "deletable": true,
    "editable": true
   },
   "source": [
    "# Listing 2-10b.Initializing the variables after invoking the Session "
   ]
  },
  {
   "cell_type": "code",
   "execution_count": 30,
   "metadata": {
    "collapsed": false,
    "deletable": true,
    "editable": true
   },
   "outputs": [
    {
     "name": "stdout",
     "output_type": "stream",
     "text": [
      "[[ 1.  1.]\n",
      " [ 1.  1.]]\n"
     ]
    }
   ],
   "source": [
    "with tf.Session() as sess:\n",
    "    sess.run(tf.global_variables_initializer())\n",
    "    print(sess.run(w)) "
   ]
  },
  {
   "cell_type": "markdown",
   "metadata": {
    "deletable": true,
    "editable": true
   },
   "source": [
    "# Listing 2-11a.Defining the TensorFlow Variable with random initial values from Standard Normal Distribution "
   ]
  },
  {
   "cell_type": "code",
   "execution_count": 32,
   "metadata": {
    "collapsed": true,
    "deletable": true,
    "editable": true
   },
   "outputs": [],
   "source": [
    "rw = tf.Variable(tf.random_normal((2,2)),name='random_weights') "
   ]
  },
  {
   "cell_type": "markdown",
   "metadata": {
    "deletable": true,
    "editable": true
   },
   "source": [
    "# Listing 2-11b.Invoking Session and displaying the Initial State of the variable "
   ]
  },
  {
   "cell_type": "code",
   "execution_count": 33,
   "metadata": {
    "collapsed": false,
    "deletable": true,
    "editable": true
   },
   "outputs": [
    {
     "name": "stdout",
     "output_type": "stream",
     "text": [
      "[[ 1.01376367  2.30987906]\n",
      " [ 0.0666444  -0.29094756]]\n"
     ]
    }
   ],
   "source": [
    "with tf.Session()as sess:\n",
    "    sess.run(tf.global_variables_initializer())\n",
    "    print(sess.run(rw)) "
   ]
  },
  {
   "cell_type": "markdown",
   "metadata": {
    "deletable": true,
    "editable": true
   },
   "source": [
    "# Listing 2-12.TensorFlow Variable State Update "
   ]
  },
  {
   "cell_type": "code",
   "execution_count": 35,
   "metadata": {
    "collapsed": false,
    "deletable": true,
    "editable": true
   },
   "outputs": [
    {
     "name": "stdout",
     "output_type": "stream",
     "text": [
      "1\n",
      "2\n",
      "3\n",
      "4\n",
      "5\n"
     ]
    }
   ],
   "source": [
    "var_1 = tf.Variable(0,name='var_1')\n",
    "add_op = tf.add(var_1,tf.constant(1))\n",
    "upd_op = tf.assign(var_1,add_op)\n",
    "\n",
    "with tf.Session() as sess:\n",
    "    sess.run(tf.global_variables_initializer())\n",
    "    for i in xrange(5):\n",
    "        print(sess.run(upd_op)) "
   ]
  },
  {
   "cell_type": "markdown",
   "metadata": {
    "deletable": true,
    "editable": true
   },
   "source": [
    "# Listing 2-13. Displaying the TensorFlow Variable State "
   ]
  },
  {
   "cell_type": "code",
   "execution_count": 36,
   "metadata": {
    "collapsed": false,
    "deletable": true,
    "editable": true
   },
   "outputs": [
    {
     "name": "stdout",
     "output_type": "stream",
     "text": [
      "[5, 12]\n"
     ]
    }
   ],
   "source": [
    "x = tf.constant(1)\n",
    "y = tf.constant(5)\n",
    "z = tf.constant(7)\n",
    "mul_x_y = x*y\n",
    "final_op = mul_x_y + z\n",
    "with tf.Session() as sess:\n",
    "    print(sess.run([mul_x_y,final_op])) "
   ]
  },
  {
   "cell_type": "markdown",
   "metadata": {
    "deletable": true,
    "editable": true
   },
   "source": [
    "# Listing 2-14.Converting a Numpy array to Tensor "
   ]
  },
  {
   "cell_type": "code",
   "execution_count": 37,
   "metadata": {
    "collapsed": false,
    "deletable": true,
    "editable": true
   },
   "outputs": [
    {
     "name": "stdout",
     "output_type": "stream",
     "text": [
      "[[ 1.  1.  1.]\n",
      " [ 1.  1.  1.]\n",
      " [ 1.  1.  1.]]\n"
     ]
    }
   ],
   "source": [
    "a = np.ones((3,3))\n",
    "b = tf.convert_to_tensor(a)\n",
    "with tf.Session() as sess:\n",
    "    print(sess.run(b)) "
   ]
  },
  {
   "cell_type": "markdown",
   "metadata": {
    "deletable": true,
    "editable": true
   },
   "source": [
    "# Listing 2-15.PlaceHolders and Feed Dictionary "
   ]
  },
  {
   "cell_type": "code",
   "execution_count": 38,
   "metadata": {
    "collapsed": false,
    "deletable": true,
    "editable": true
   },
   "outputs": [
    {
     "name": "stdout",
     "output_type": "stream",
     "text": [
      "[array([[ 10.]], dtype=float32)]\n"
     ]
    }
   ],
   "source": [
    "inp1 = tf.placeholder(tf.float32,shape=(1,2))\n",
    "inp2 = tf.placeholder(tf.float32,shape=(2,1))\n",
    "output = tf.matmul(inp1,inp2)\n",
    "with tf.Session() as sess:\n",
    "    print(sess.run([output],feed_dict={inp1:[[1.,3.]],inp2:[[1],[3]]})) "
   ]
  },
  {
   "cell_type": "markdown",
   "metadata": {
    "deletable": true,
    "editable": true
   },
   "source": [
    "# Listing 2-16 . XOR implementation with Hidden layers having sigmoid activation functions. "
   ]
  },
  {
   "cell_type": "code",
   "execution_count": 4,
   "metadata": {
    "collapsed": false,
    "deletable": true,
    "editable": true
   },
   "outputs": [
    {
     "name": "stdout",
     "output_type": "stream",
     "text": [
      "WARNING:tensorflow:From <ipython-input-4-b59bb1888f19>:39: initialize_all_variables (from tensorflow.python.ops.variables) is deprecated and will be removed after 2017-03-02.\n",
      "Instructions for updating:\n",
      "Use `tf.global_variables_initializer` instead.\n",
      "WARNING:tensorflow:Passing a `GraphDef` to the SummaryWriter is deprecated. Pass a `Graph` object instead, such as `sess.graph`.\n",
      "('Epoch ', 0)\n",
      "('Prediction:', array([[ 0.64893764],\n",
      "       [ 0.59689724],\n",
      "       [ 0.65669155],\n",
      "       [ 0.60471165]], dtype=float32))\n",
      "('Weights from input to hidden layer:', array([[ 0.33330926, -0.06977983],\n",
      "       [-0.74415874, -0.76291597]], dtype=float32))\n",
      "('Bias in the hidden layer:', array([-0.00018968, -0.00019783], dtype=float32))\n",
      "('Weights from hidden layer to output layer:', array([[ 0.55683446],\n",
      "       [ 0.67457557]], dtype=float32))\n",
      "('Bias in the output layer:', array([-0.00127236], dtype=float32))\n",
      "('Cost:', 0.72787058)\n",
      "('Epoch ', 10000)\n",
      "('Prediction:', array([[ 0.51114953],\n",
      "       [ 0.47865298],\n",
      "       [ 0.52110726],\n",
      "       [ 0.48724094]], dtype=float32))\n",
      "('Weights from input to hidden layer:', array([[ 0.36421987,  0.07621444],\n",
      "       [-0.80342209, -0.69109011]], dtype=float32))\n",
      "('Bias in the hidden layer:', array([-0.1754255 , -0.05907499], dtype=float32))\n",
      "('Weights from hidden layer to output layer:', array([[ 0.35651296],\n",
      "       [ 0.39376989]], dtype=float32))\n",
      "('Bias in the output layer:', array([-0.3091267], dtype=float32))\n",
      "('Cost:', 0.69305658)\n",
      "('Epoch ', 20000)\n",
      "('Prediction:', array([[ 0.50909698],\n",
      "       [ 0.47744894],\n",
      "       [ 0.52366114],\n",
      "       [ 0.48920777]], dtype=float32))\n",
      "('Weights from input to hidden layer:', array([[ 0.4604663 ,  0.15454701],\n",
      "       [-0.90493822, -0.66533172]], dtype=float32))\n",
      "('Bias in the hidden layer:', array([-0.3383978 , -0.10174778], dtype=float32))\n",
      "('Weights from hidden layer to output layer:', array([[ 0.40625799],\n",
      "       [ 0.30809221]], dtype=float32))\n",
      "('Bias in the output layer:', array([-0.2789081], dtype=float32))\n",
      "('Cost:', 0.69237739)\n",
      "('Epoch ', 30000)\n",
      "('Prediction:', array([[ 0.50825125],\n",
      "       [ 0.46836436],\n",
      "       [ 0.53683698],\n",
      "       [ 0.48732194]], dtype=float32))\n",
      "('Weights from input to hidden layer:', array([[ 0.68638313,  0.19565736],\n",
      "       [-1.15333831, -0.65534836]], dtype=float32))\n",
      "('Bias in the hidden layer:', array([-0.61990702, -0.14916727], dtype=float32))\n",
      "('Weights from hidden layer to output layer:', array([[ 0.62740165],\n",
      "       [ 0.20371079]], dtype=float32))\n",
      "('Bias in the output layer:', array([-0.28073126], dtype=float32))\n",
      "('Cost:', 0.68961602)\n",
      "('Epoch ', 40000)\n",
      "('Prediction:', array([[ 0.49339783],\n",
      "       [ 0.4297123 ],\n",
      "       [ 0.61139292],\n",
      "       [ 0.46820232]], dtype=float32))\n",
      "('Weights from input to hidden layer:', array([[ 1.46895719,  0.2015698 ],\n",
      "       [-1.96267307, -0.64456999]], dtype=float32))\n",
      "('Bias in the hidden layer:', array([-1.27286911, -0.17152636], dtype=float32))\n",
      "('Weights from hidden layer to output layer:', array([[ 1.46054983],\n",
      "       [-0.05060644]], dtype=float32))\n",
      "('Bias in the output layer:', array([-0.32279116], dtype=float32))\n",
      "('Cost:', 0.66204411)\n",
      "('Epoch ', 50000)\n",
      "('Prediction:', array([[ 0.39733696],\n",
      "       [ 0.37896886],\n",
      "       [ 0.81074315],\n",
      "       [ 0.39166152]], dtype=float32))\n",
      "('Weights from input to hidden layer:', array([[ 3.14588714,  0.58158773],\n",
      "       [-3.63937855, -0.94115627]], dtype=float32))\n",
      "('Bias in the hidden layer:', array([-2.32414532,  0.01375323], dtype=float32))\n",
      "('Weights from hidden layer to output layer:', array([[ 3.3128767 ],\n",
      "       [-0.95220023]], dtype=float32))\n",
      "('Bias in the output layer:', array([-0.23251912], dtype=float32))\n",
      "('Cost:', 0.54588151)\n",
      "('Epoch ', 60000)\n",
      "('Prediction:', array([[ 0.21082206],\n",
      "       [ 0.65720528],\n",
      "       [ 0.88564587],\n",
      "       [ 0.17220463]], dtype=float32))\n",
      "('Weights from input to hidden layer:', array([[ 4.58157301,  3.03108788],\n",
      "       [-4.87241077, -2.74053288]], dtype=float32))\n",
      "('Bias in the hidden layer:', array([-2.88855243,  1.18735385], dtype=float32))\n",
      "('Weights from hidden layer to output layer:', array([[ 5.3037591 ],\n",
      "       [-3.79996419]], dtype=float32))\n",
      "('Bias in the output layer:', array([ 1.31218469], dtype=float32))\n",
      "('Cost:', 0.24173743)\n",
      "('Epoch ', 70000)\n",
      "('Prediction:', array([[ 0.08185078],\n",
      "       [ 0.87771422],\n",
      "       [ 0.94029832],\n",
      "       [ 0.06675483]], dtype=float32))\n",
      "('Weights from input to hidden layer:', array([[ 5.31078911,  4.45055914],\n",
      "       [-5.47133875, -4.14548302]], dtype=float32))\n",
      "('Bias in the hidden layer:', array([-3.06447935,  1.97060025], dtype=float32))\n",
      "('Weights from hidden layer to output layer:', array([[ 6.86798048],\n",
      "       [-6.05090141]], dtype=float32))\n",
      "('Bias in the output layer:', array([ 2.5869782], dtype=float32))\n",
      "('Cost:', 0.086618751)\n",
      "('Epoch ', 80000)\n",
      "('Prediction:', array([[ 0.04654188],\n",
      "       [ 0.93326318],\n",
      "       [ 0.96261185],\n",
      "       [ 0.03852965]], dtype=float32))\n",
      "('Weights from input to hidden layer:', array([[ 5.65764332,  5.05240822],\n",
      "       [-5.79591513, -4.7506671 ]], dtype=float32))\n",
      "('Bias in the hidden layer:', array([-3.17089868,  2.30809426], dtype=float32))\n",
      "('Weights from hidden layer to output layer:', array([[ 7.83147526],\n",
      "       [-7.19909239]], dtype=float32))\n",
      "('Bias in the output layer:', array([ 3.21273899], dtype=float32))\n",
      "('Cost:', 0.048531085)\n",
      "('Epoch ', 90000)\n",
      "('Prediction:', array([[ 0.03189324],\n",
      "       [ 0.9551484 ],\n",
      "       [ 0.97327334],\n",
      "       [ 0.02663374]], dtype=float32))\n",
      "('Weights from input to hidden layer:', array([[ 5.87259769,  5.40335369],\n",
      "       [-6.0087204 , -5.10436583]], dtype=float32))\n",
      "('Bias in the hidden layer:', array([-3.24681425,  2.50163841], dtype=float32))\n",
      "('Weights from hidden layer to output layer:', array([[ 8.49800205],\n",
      "       [-7.93741798]], dtype=float32))\n",
      "('Bias in the output layer:', array([ 3.60508418], dtype=float32))\n",
      "('Cost:', 0.03309666)\n",
      "('Final Prediction', array([[ 0.02407609],\n",
      "       [ 0.96649462],\n",
      "       [ 0.97934979],\n",
      "       [ 0.02021892]], dtype=float32))\n"
     ]
    }
   ],
   "source": [
    "#----------------------------------------------------------------------------------------------\n",
    "#XOR  implementation in Tensorflow with hidden layers being sigmoid to introduce Non-Linearity\n",
    "#----------------------------------------------------------------------------------------------\n",
    "import tensorflow as tf\n",
    "#----------------------------------------------------------------------------------------------\n",
    "# Create placeholders for training input and output labels\n",
    "#----------------------------------------------------------------------------------------------\n",
    "x_ = tf.placeholder(tf.float32, shape=[4,2], name=\"x-input\")\n",
    "y_ = tf.placeholder(tf.float32, shape=[4,1], name=\"y-input\")\n",
    "#----------------------------------------------------------------------------------------------\n",
    "#Define the weights to the hidden and output layerrespectively. \n",
    "#----------------------------------------------------------------------------------------------\n",
    "w1 = tf.Variable(tf.random_uniform([2,2], -1, 1), name=\"Weights1\")\n",
    "w2 = tf.Variable(tf.random_uniform([2,1], -1, 1), name=\"Weights2\")\n",
    "#----------------------------------------------------------------------------------------------\n",
    "# Define the bias to the hidden and output layers respectively\n",
    "#----------------------------------------------------------------------------------------------\n",
    "b1 = tf.Variable(tf.zeros([2]), name=\"Bias1\")\n",
    "b2 = tf.Variable(tf.zeros([1]), name=\"Bias2\")\n",
    "#----------------------------------------------------------------------------------------------\n",
    "# Define the final output through forward pass\n",
    "#----------------------------------------------------------------------------------------------\n",
    "z2 = tf.sigmoid(tf.matmul(x_, w1) + b1)\n",
    "pred = tf.sigmoid(tf.matmul(z2,w2) + b2)\n",
    "#----------------------------------------------------------------------------------------------\n",
    "#Define the Cross-entropy/Log-loss Cost function based on the output label y and the predicted \n",
    "#probability by the forward pass\n",
    "#----------------------------------------------------------------------------------------------\n",
    "cost = tf.reduce_mean(( (y_ * tf.log(pred)) + \n",
    "        ((1 - y_) * tf.log(1.0 - pred)) ) * -1)\n",
    "learning_rate = 0.01\n",
    "train_step = tf.train.GradientDescentOptimizer(learning_rate).minimize(cost)\n",
    "#----------------------------------------------------------------------------------------------\n",
    "#Now that we have all that we need set up we will start the training\n",
    "#----------------------------------------------------------------------------------------------\n",
    "XOR_X = [[0,0],[0,1],[1,0],[1,1]]\n",
    "XOR_Y = [[0],[1],[1],[0]]\n",
    "\n",
    "init = tf.initialize_all_variables()\n",
    "sess = tf.Session()\n",
    "writer = tf.summary.FileWriter(\"./Downloads/XOR1_logs\", sess.graph_def)\n",
    "\n",
    "sess.run(init)\n",
    "for i in range(100000):\n",
    "        sess.run(train_step, feed_dict={x_: XOR_X, y_: XOR_Y})\n",
    "        if i % 10000 == 0:\n",
    "            print('Epoch ', i)\n",
    "            print('Prediction:', sess.run(pred,feed_dict={x_: XOR_X, y_: XOR_Y}))\n",
    "            print('Weights from input to hidden layer:', sess.run(w1))\n",
    "            print('Bias in the hidden layer:', sess.run(b1))\n",
    "            print('Weights from hidden layer to output layer:', sess.run(w2))\n",
    "            print('Bias in the output layer:', sess.run(b2))\n",
    "            print('Cost:', sess.run(cost, feed_dict={x_: XOR_X, y_: XOR_Y}))\n",
    "#----------------------------------------------------------------------------------------------        \n",
    "print('Final Prediction', sess.run(pred, feed_dict={x_: XOR_X, y_: XOR_Y}))\n",
    "#----------------------------------------------------------------------------------------------"
   ]
  },
  {
   "cell_type": "markdown",
   "metadata": {
    "deletable": true,
    "editable": true
   },
   "source": [
    "# Listing 2-17 . XOR implementation with linear activation functionsin hidden layer "
   ]
  },
  {
   "cell_type": "code",
   "execution_count": 66,
   "metadata": {
    "collapsed": false,
    "deletable": true,
    "editable": true
   },
   "outputs": [
    {
     "name": "stdout",
     "output_type": "stream",
     "text": [
      "WARNING:tensorflow:From <ipython-input-66-db43780c025c>:39: initialize_all_variables (from tensorflow.python.ops.variables) is deprecated and will be removed after 2017-03-02.\n",
      "Instructions for updating:\n",
      "Use `tf.global_variables_initializer` instead.\n"
     ]
    },
    {
     "name": "stderr",
     "output_type": "stream",
     "text": [
      "WARNING:tensorflow:From <ipython-input-66-db43780c025c>:39: initialize_all_variables (from tensorflow.python.ops.variables) is deprecated and will be removed after 2017-03-02.\n",
      "Instructions for updating:\n",
      "Use `tf.global_variables_initializer` instead.\n"
     ]
    },
    {
     "name": "stdout",
     "output_type": "stream",
     "text": [
      "('Epoch ', 0)\n",
      "('Prediction:', array([[ 0.49962392],\n",
      "       [ 0.62373435],\n",
      "       [ 0.56146997],\n",
      "       [ 0.68006349]], dtype=float32))\n",
      "('Weights from input to hidden layer:', array([[-0.45627943,  0.23895949],\n",
      "       [-0.85042536,  0.31715545]], dtype=float32))\n",
      "('Bias in the hidden layer:', array([ 0.00066458,  0.00031138], dtype=float32))\n",
      "('Weights from hidden layer to output layer:', array([[-0.72267991],\n",
      "       [-0.33942884]], dtype=float32))\n",
      "('Bias in the output layer:', array([-0.00091842], dtype=float32))\n",
      "('Cost:', 0.72031391)\n",
      "('Epoch ', 10000)\n",
      "('Prediction:', array([[ 0.49985746],\n",
      "       [ 0.50034904],\n",
      "       [ 0.49959072],\n",
      "       [ 0.50008225]], dtype=float32))\n",
      "('Weights from input to hidden layer:', array([[-0.37904808,  0.28653768],\n",
      "       [-0.64646655,  0.48142514]], dtype=float32))\n",
      "('Bias in the hidden layer:', array([ 0.02285987, -0.0133572 ], dtype=float32))\n",
      "('Weights from hidden layer to output layer:', array([[-0.39112166],\n",
      "       [-0.52112126]], dtype=float32))\n",
      "('Bias in the output layer:', array([ 0.00141016], dtype=float32))\n",
      "('Cost:', 0.6931473)\n",
      "('Epoch ', 20000)\n",
      "('Prediction:', array([[ 0.50000429],\n",
      "       [ 0.50002593],\n",
      "       [ 0.49997497],\n",
      "       [ 0.49999654]], dtype=float32))\n",
      "('Weights from input to hidden layer:', array([[-0.38027543,  0.28490078],\n",
      "       [-0.64534467,  0.4829419 ]], dtype=float32))\n",
      "('Bias in the hidden layer:', array([ 0.0227049 , -0.01356433], dtype=float32))\n",
      "('Weights from hidden layer to output layer:', array([[-0.39045283],\n",
      "       [-0.5215745 ]], dtype=float32))\n",
      "('Bias in the output layer:', array([ 0.00180753], dtype=float32))\n",
      "('Cost:', 0.69314718)\n",
      "('Epoch ', 30000)\n",
      "('Prediction:', array([[ 0.5000003 ],\n",
      "       [ 0.50001115],\n",
      "       [ 0.49998885],\n",
      "       [ 0.4999997 ]], dtype=float32))\n",
      "('Weights from input to hidden layer:', array([[-0.38033357,  0.28480721],\n",
      "       [-0.64534467,  0.48302445]], dtype=float32))\n",
      "('Bias in the hidden layer:', array([ 0.02270905, -0.01355919], dtype=float32))\n",
      "('Weights from hidden layer to output layer:', array([[-0.39045283],\n",
      "       [-0.5215745 ]], dtype=float32))\n",
      "('Bias in the output layer:', array([ 0.00179592], dtype=float32))\n",
      "('Cost:', 0.69314718)\n",
      "('Epoch ', 40000)\n",
      "('Prediction:', array([[ 0.5000003 ],\n",
      "       [ 0.50001115],\n",
      "       [ 0.49998885],\n",
      "       [ 0.4999997 ]], dtype=float32))\n",
      "('Weights from input to hidden layer:', array([[-0.38033357,  0.28480721],\n",
      "       [-0.64534467,  0.48302445]], dtype=float32))\n",
      "('Bias in the hidden layer:', array([ 0.02270905, -0.01355919], dtype=float32))\n",
      "('Weights from hidden layer to output layer:', array([[-0.39045283],\n",
      "       [-0.5215745 ]], dtype=float32))\n",
      "('Bias in the output layer:', array([ 0.00179592], dtype=float32))\n",
      "('Cost:', 0.69314718)\n",
      "('Epoch ', 50000)\n",
      "('Prediction:', array([[ 0.5000003 ],\n",
      "       [ 0.50001115],\n",
      "       [ 0.49998885],\n",
      "       [ 0.4999997 ]], dtype=float32))\n",
      "('Weights from input to hidden layer:', array([[-0.38033357,  0.28480721],\n",
      "       [-0.64534467,  0.48302445]], dtype=float32))\n",
      "('Bias in the hidden layer:', array([ 0.02270905, -0.01355919], dtype=float32))\n",
      "('Weights from hidden layer to output layer:', array([[-0.39045283],\n",
      "       [-0.5215745 ]], dtype=float32))\n",
      "('Bias in the output layer:', array([ 0.00179592], dtype=float32))\n",
      "('Cost:', 0.69314718)\n",
      "('Epoch ', 60000)\n",
      "('Prediction:', array([[ 0.5000003 ],\n",
      "       [ 0.50001115],\n",
      "       [ 0.49998885],\n",
      "       [ 0.4999997 ]], dtype=float32))\n",
      "('Weights from input to hidden layer:', array([[-0.38033357,  0.28480721],\n",
      "       [-0.64534467,  0.48302445]], dtype=float32))\n",
      "('Bias in the hidden layer:', array([ 0.02270905, -0.01355919], dtype=float32))\n",
      "('Weights from hidden layer to output layer:', array([[-0.39045283],\n",
      "       [-0.5215745 ]], dtype=float32))\n",
      "('Bias in the output layer:', array([ 0.00179592], dtype=float32))\n",
      "('Cost:', 0.69314718)\n",
      "('Epoch ', 70000)\n",
      "('Prediction:', array([[ 0.5000003 ],\n",
      "       [ 0.50001115],\n",
      "       [ 0.49998885],\n",
      "       [ 0.4999997 ]], dtype=float32))\n",
      "('Weights from input to hidden layer:', array([[-0.38033357,  0.28480721],\n",
      "       [-0.64534467,  0.48302445]], dtype=float32))\n",
      "('Bias in the hidden layer:', array([ 0.02270905, -0.01355919], dtype=float32))\n",
      "('Weights from hidden layer to output layer:', array([[-0.39045283],\n",
      "       [-0.5215745 ]], dtype=float32))\n",
      "('Bias in the output layer:', array([ 0.00179592], dtype=float32))\n",
      "('Cost:', 0.69314718)\n",
      "('Epoch ', 80000)\n",
      "('Prediction:', array([[ 0.5000003 ],\n",
      "       [ 0.50001115],\n",
      "       [ 0.49998885],\n",
      "       [ 0.4999997 ]], dtype=float32))\n",
      "('Weights from input to hidden layer:', array([[-0.38033357,  0.28480721],\n",
      "       [-0.64534467,  0.48302445]], dtype=float32))\n",
      "('Bias in the hidden layer:', array([ 0.02270905, -0.01355919], dtype=float32))\n",
      "('Weights from hidden layer to output layer:', array([[-0.39045283],\n",
      "       [-0.5215745 ]], dtype=float32))\n",
      "('Bias in the output layer:', array([ 0.00179592], dtype=float32))\n",
      "('Cost:', 0.69314718)\n",
      "('Epoch ', 90000)\n",
      "('Prediction:', array([[ 0.5000003 ],\n",
      "       [ 0.50001115],\n",
      "       [ 0.49998885],\n",
      "       [ 0.4999997 ]], dtype=float32))\n",
      "('Weights from input to hidden layer:', array([[-0.38033357,  0.28480721],\n",
      "       [-0.64534467,  0.48302445]], dtype=float32))\n",
      "('Bias in the hidden layer:', array([ 0.02270905, -0.01355919], dtype=float32))\n",
      "('Weights from hidden layer to output layer:', array([[-0.39045283],\n",
      "       [-0.5215745 ]], dtype=float32))\n",
      "('Bias in the output layer:', array([ 0.00179592], dtype=float32))\n",
      "('Cost:', 0.69314718)\n",
      "('Final Prediction', array([[ 0.5000003 ],\n",
      "       [ 0.50001115],\n",
      "       [ 0.49998885],\n",
      "       [ 0.4999997 ]], dtype=float32))\n"
     ]
    }
   ],
   "source": [
    "#----------------------------------------------------------------------------------------------\n",
    "#XOR  implementation in Tensorflow with linear activation for hidden layers \n",
    "#----------------------------------------------------------------------------------------------\n",
    "import tensorflow as tf\n",
    "#----------------------------------------------------------------------------------------------\n",
    "# Create placeholders for training input and output labels\n",
    "#----------------------------------------------------------------------------------------------\n",
    "x_ = tf.placeholder(tf.float32, shape=[4,2], name=\"x-input\")\n",
    "y_ = tf.placeholder(tf.float32, shape=[4,1], name=\"y-input\")\n",
    "#----------------------------------------------------------------------------------------------\n",
    "#Define the weights to the hidden and output layer respectively. \n",
    "#----------------------------------------------------------------------------------------------\n",
    "w1 = tf.Variable(tf.random_uniform([2,2], -1, 1), name=\"Weights1\")\n",
    "w2 = tf.Variable(tf.random_uniform([2,1], -1, 1), name=\"Weights2\")\n",
    "#----------------------------------------------------------------------------------------------\n",
    "# Define the bias to the hideen and output layers respectively\n",
    "#----------------------------------------------------------------------------------------------\n",
    "b1 = tf.Variable(tf.zeros([2]), name=\"Bias1\")\n",
    "b2 = tf.Variable(tf.zeros([1]), name=\"Bias2\")\n",
    "#----------------------------------------------------------------------------------------------\n",
    "# Define the final output through forward pass\n",
    "#----------------------------------------------------------------------------------------------\n",
    "z2 = tf.matmul(x_, w1) + b1\n",
    "pred = tf.sigmoid(tf.matmul(z2,w2) + b2)\n",
    "#----------------------------------------------------------------------------------------------\n",
    "#Define the Cross-entropy/Log-loss Cost function based on the output label y and the predicted \n",
    "#probability by the forward pass\n",
    "#----------------------------------------------------------------------------------------------\n",
    "cost = tf.reduce_mean(( (y_ * tf.log(pred)) + \n",
    "        ((1 - y_) * tf.log(1.0 - pred)) ) * -1)\n",
    "learning_rate = 0.01\n",
    "train_step = tf.train.GradientDescentOptimizer(learning_rate).minimize(cost)\n",
    "#----------------------------------------------------------------------------------------------\n",
    "#Now that we have all that we need set up we will start the training\n",
    "#----------------------------------------------------------------------------------------------\n",
    "XOR_X = [[0,0],[0,1],[1,0],[1,1]]\n",
    "XOR_Y = [[0],[1],[1],[0]]\n",
    "\n",
    "init = tf.initialize_all_variables()\n",
    "sess = tf.Session()\n",
    "sess.run(init)\n",
    "for i in range(100000):\n",
    "        sess.run(train_step, feed_dict={x_: XOR_X, y_: XOR_Y})\n",
    "        if i % 10000 == 0:\n",
    "            print('Epoch ', i)\n",
    "            print('Prediction:', sess.run(pred,feed_dict={x_: XOR_X, y_: XOR_Y}))\n",
    "            print('Weights from input to hidden layer:', sess.run(w1))\n",
    "            print('Bias in the hidden layer:', sess.run(b1))\n",
    "            print('Weights from hidden layer to output layer:', sess.run(w2))\n",
    "            print('Bias in the output layer:', sess.run(b2))\n",
    "            print('Cost:', sess.run(cost, feed_dict={x_: XOR_X, y_: XOR_Y}))\n",
    "#----------------------------------------------------------------------------------------------        \n",
    "print('Final Prediction', sess.run(pred, feed_dict={x_: XOR_X, y_: XOR_Y}))\n",
    "#----------------------------------------------------------------------------------------------"
   ]
  },
  {
   "cell_type": "markdown",
   "metadata": {
    "collapsed": true,
    "deletable": true,
    "editable": true
   },
   "source": [
    "# Listing 2-18. Linear Regression implementation in TensorFlow "
   ]
  },
  {
   "cell_type": "code",
   "execution_count": 46,
   "metadata": {
    "collapsed": false,
    "deletable": true,
    "editable": true
   },
   "outputs": [
    {
     "name": "stdout",
     "output_type": "stream",
     "text": [
      "MSE in training: 22.0334\n"
     ]
    }
   ],
   "source": [
    "#----------------------------------------------------------------------------------------------\n",
    "\n",
    "# Importing TensorFlow, Numpy and the Boston Housing price dataset\n",
    "\n",
    "#---------------------------------------------------------------------------------------------- \n",
    "\n",
    "import tensorflow as tf\n",
    "import numpy as np\n",
    "from sklearn.datasets import load_boston\n",
    "\n",
    "#----------------------------------------------------------------------------------------------\n",
    "\n",
    "# Function to load the Boston data set\n",
    "\n",
    "#---------------------------------------------------------------------------------------------- \n",
    "\n",
    "def read_infile():\n",
    "    data = load_boston()\n",
    "    features = np.array(data.data)\n",
    "    target = np.array(data.target)\n",
    "    return features,target\n",
    "\n",
    "#----------------------------------------------------------------------------------------------\n",
    "\n",
    "# Normalize the features by Z scaling i.e. subract form each feature value its mean and then divide by its \n",
    "# standard deviation. Accelerates Gradient Descent.\n",
    "\n",
    "#---------------------------------------------------------------------------------------------- \n",
    "\n",
    "def feature_normalize(data):\n",
    "    mu = np.mean(data,axis=0)\n",
    "    std = np.std(data,axis=0)\n",
    "    return (data - mu)/std\n",
    "\n",
    "#----------------------------------------------------------------------------------------------\n",
    "\n",
    "# Append the feature for the bias term.\n",
    "\n",
    "#---------------------------------------------------------------------------------------------- \n",
    "\n",
    "def append_bias(features,target):\n",
    "    n_samples = features.shape[0]\n",
    "    n_features = features.shape[1]\n",
    "    intercept_feature  = np.ones((n_samples,1))\n",
    "    X = np.concatenate((features,intercept_feature),axis=1)\n",
    "    X = np.reshape(X,[n_samples,n_features +1])\n",
    "    Y = np.reshape(target,[n_samples,1])\n",
    "    return X,Y\n",
    "\n",
    "#----------------------------------------------------------------------------------------------\n",
    "\n",
    "# Execute the functions to read, normalize and add append bias term to the data\n",
    "\n",
    "#---------------------------------------------------------------------------------------------- \n",
    "\n",
    "features,target = read_infile()\n",
    "z_features = feature_normalize(features)\n",
    "X_input,Y_input = append_bias(z_features,target)\n",
    "num_features = X_input.shape[1]\n",
    "\n",
    "#----------------------------------------------------------------------------------------------\n",
    "\n",
    "# Create TensorFlow ops for placeholders, weights and weight initialization\n",
    "\n",
    "#---------------------------------------------------------------------------------------------- \n",
    "\n",
    "X = tf.placeholder(tf.float32,[None,num_features])\n",
    "Y = tf.placeholder(tf.float32,[None,1])\n",
    "w = tf.Variable(tf.random_normal((num_features,1)),name='weights')\n",
    "init = tf.global_variables_initializer()\n",
    "\n",
    "#----------------------------------------------------------------------------------------------\n",
    "\n",
    "# Define the different TensforFlow ops and input parameters for Cost and Optimization.\n",
    "\n",
    "#---------------------------------------------------------------------------------------------- \n",
    "\n",
    "learning_rate = 0.01\n",
    "num_epochs = 1000\n",
    "cost_trace = []\n",
    "pred = tf.matmul(X,w)\n",
    "error = pred - Y\n",
    "cost = tf.reduce_mean(tf.square(error))\n",
    "train_op = tf.train.GradientDescentOptimizer(learning_rate).minimize(cost)\n",
    "\n",
    "#----------------------------------------------------------------------------------------------\n",
    "\n",
    "# Execute the gradient descent learning\n",
    "\n",
    "#---------------------------------------------------------------------------------------------- \n",
    "\n",
    "with tf.Session() as sess:\n",
    "    sess.run(init)\n",
    "    for i in xrange(num_epochs):\n",
    "        sess.run(train_op,feed_dict={X:X_input,Y:Y_input})\n",
    "        cost_trace.append(sess.run(cost,feed_dict={X:X_input,Y:Y_input}))\n",
    "    error_ = sess.run(error,{X:X_input,Y:Y_input}) \n",
    "    pred_ = sess.run(pred,{X:X_input}) \n",
    "\n",
    "print 'MSE in training:',cost_trace[-1] \n",
    "            "
   ]
  },
  {
   "cell_type": "markdown",
   "metadata": {
    "deletable": true,
    "editable": true
   },
   "source": [
    "# Listing 2-18a. Linear Regression Cost plot over Epochs or iterations "
   ]
  },
  {
   "cell_type": "code",
   "execution_count": 47,
   "metadata": {
    "collapsed": false,
    "deletable": true,
    "editable": true
   },
   "outputs": [
    {
     "data": {
      "text/plain": [
       "[<matplotlib.lines.Line2D at 0x7fc7fed36350>]"
      ]
     },
     "execution_count": 47,
     "metadata": {},
     "output_type": "execute_result"
    },
    {
     "data": {
      "image/png": "[encoded data removed]",
      "text/plain": [
       "<matplotlib.figure.Figure at 0x7fc7fef1ba10>"
      ]
     },
     "metadata": {},
     "output_type": "display_data"
    }
   ],
   "source": [
    "import matplotlib.pyplot as plt\n",
    "%matplotlib inline\n",
    "plt.plot(cost_trace)"
   ]
  },
  {
   "cell_type": "markdown",
   "metadata": {
    "deletable": true,
    "editable": true
   },
   "source": [
    "# Listing 2-18b. Linear Regression Actual House Price vs Predicted House Price "
   ]
  },
  {
   "cell_type": "code",
   "execution_count": 48,
   "metadata": {
    "collapsed": false,
    "deletable": true,
    "editable": true
   },
   "outputs": [
    {
     "data": {
      "text/plain": [
       "<matplotlib.text.Text at 0x7fc7fed166d0>"
      ]
     },
     "execution_count": 48,
     "metadata": {},
     "output_type": "execute_result"
    },
    {
     "data": {
      "image/png": "[encoded data removed]",
      "text/plain": [
       "<matplotlib.figure.Figure at 0x7fc7fee3c910>"
      ]
     },
     "metadata": {},
     "output_type": "display_data"
    }
   ],
   "source": [
    "#----------------------------------------------------------------------------------------------\n",
    "\n",
    "# Plot the Predicted house Prices vs the Actual House Prices\n",
    "\n",
    "#----------------------------------------------------------------------------------------------\n",
    "\n",
    "fig, ax = plt.subplots()\n",
    "plt.scatter(Y_input,pred_)\n",
    "ax.set_xlabel('Actual House price')\n",
    "ax.set_ylabel('Predicted House price') "
   ]
  },
  {
   "cell_type": "markdown",
   "metadata": {
    "deletable": true,
    "editable": true
   },
   "source": [
    "# Listing 2-19. Multiclass Classification with Softmax function using Full Batch Gradient Descent "
   ]
  },
  {
   "cell_type": "code",
   "execution_count": 49,
   "metadata": {
    "collapsed": false,
    "deletable": true,
    "editable": true
   },
   "outputs": [
    {
     "name": "stdout",
     "output_type": "stream",
     "text": [
      "Extracting MNIST_data/train-images-idx3-ubyte.gz\n",
      "Extracting MNIST_data/train-labels-idx1-ubyte.gz\n",
      "Extracting MNIST_data/t10k-images-idx3-ubyte.gz\n",
      "Extracting MNIST_data/t10k-labels-idx1-ubyte.gz\n",
      "Epoch: 100 loss: 1.61233 accuracy: 0.658818181818\n",
      "Epoch: 200 loss: 1.24327 accuracy: 0.753472727273\n",
      "Epoch: 300 loss: 1.04145 accuracy: 0.788018181818\n",
      "Epoch: 400 loss: 0.917034 accuracy: 0.806836363636\n",
      "Epoch: 500 loss: 0.832832 accuracy: 0.818527272727\n",
      "Epoch: 600 loss: 0.771862 accuracy: 0.827054545455\n",
      "Epoch: 700 loss: 0.725474 accuracy: 0.833545454545\n",
      "Epoch: 800 loss: 0.688842 accuracy: 0.839054545455\n",
      "Epoch: 900 loss: 0.659069 accuracy: 0.843727272727\n",
      "Epoch: 1000 loss: 0.634311 accuracy: 0.847763636364\n",
      "Final training result: loss: 0.634311 accuracy: 0.847763636364\n",
      "Results on test dataset: loss: 0.608456 accuracy: 0.8567\n"
     ]
    }
   ],
   "source": [
    "#----------------------------------------------------------------------------------------------\n",
    "\n",
    "# Import the required libraries\n",
    "\n",
    "#---------------------------------------------------------------------------------------------- \n",
    "\n",
    "import tensorflow as tf\n",
    "import numpy as np\n",
    "from sklearn import datasets\n",
    "from tensorflow.examples.tutorials.mnist import input_data\n",
    "\n",
    "\n",
    "\n",
    "#----------------------------------------------------------------------------------------------\n",
    "\n",
    "# Function to Read the MNIST dataset along with the labels\n",
    "\n",
    "#---------------------------------------------------------------------------------------------- \n",
    "\n",
    "def read_infile():\n",
    "    mnist = input_data.read_data_sets(\"MNIST_data/\", one_hot=True)\n",
    "    train_X, train_Y,test_X, test_Y = mnist.train.images, mnist.train.labels, mnist.test.images, mnist.test.labels\n",
    "    return train_X, train_Y,test_X, test_Y\n",
    "\n",
    "#----------------------------------------------------------------------------------------------\n",
    "\n",
    "# Define the weights and biases for the neural network\n",
    "\n",
    "#---------------------------------------------------------------------------------------------- \n",
    "\n",
    "def weights_biases_placeholder(n_dim,n_classes):\n",
    "    X = tf.placeholder(tf.float32,[None,n_dim])\n",
    "    Y = tf.placeholder(tf.float32,[None,n_classes])\n",
    "    w = tf.Variable(tf.random_normal([n_dim,n_classes],stddev=0.01),name='weights')\n",
    "    b = tf.Variable(tf.random_normal([n_classes]),name='weights')\n",
    "    return X,Y,w,b\n",
    "\n",
    "#----------------------------------------------------------------------------------------------\n",
    "\n",
    "# Define the forward pass\n",
    "\n",
    "#---------------------------------------------------------------------------------------------- \n",
    "\n",
    "def forward_pass(w,b,X):\n",
    "    out = tf.matmul(X,w) + b\n",
    "    return out \n",
    "\n",
    "#----------------------------------------------------------------------------------------------\n",
    "\n",
    "# Define the cost function for the softmax unit\n",
    "\n",
    "#---------------------------------------------------------------------------------------------- \n",
    "\n",
    "def multiclass_cost(out,Y):\n",
    "    cost = tf.reduce_mean(tf.nn.softmax_cross_entropy_with_logits(logits=out,labels=Y))\n",
    "    return cost\n",
    "\n",
    "#----------------------------------------------------------------------------------------------\n",
    "\n",
    "# Define the initialiazation op\n",
    "\n",
    "#---------------------------------------------------------------------------------------------- \n",
    "\n",
    "def init():\n",
    "    return tf.global_variables_initializer()\n",
    "\n",
    "#----------------------------------------------------------------------------------------------\n",
    "\n",
    "# Define the training op\n",
    "\n",
    "#---------------------------------------------------------------------------------------------- \n",
    "    \n",
    "def train_op(learning_rate,cost):\n",
    "    op_train = tf.train.GradientDescentOptimizer(learning_rate).minimize(cost)\n",
    "    return op_train\n",
    "    \n",
    "\n",
    "\n",
    "train_X, train_Y,test_X, test_Y = read_infile()\n",
    "X,Y,w,b = weights_biases_placeholder(train_X.shape[1],train_Y.shape[1])\n",
    "out = forward_pass(w,b,X)\n",
    "cost = multiclass_cost(out,Y)\n",
    "learning_rate,epochs = 0.01,1000\n",
    "op_train = train_op(learning_rate,cost)\n",
    "init = init()\n",
    "loss_trace = []\n",
    "accuracy_trace = []\n",
    "\n",
    "#----------------------------------------------------------------------------------------------\n",
    "\n",
    "# Activate the Tensorflow session and execute the Stochastic gradient descent\n",
    "\n",
    "#---------------------------------------------------------------------------------------------- \n",
    "\n",
    "\n",
    "with tf.Session() as sess:\n",
    "    sess.run(init)\n",
    "    \n",
    "    for i in xrange(epochs):\n",
    "        sess.run(op_train,feed_dict={X:train_X,Y:train_Y})\n",
    "        loss_ = sess.run(cost,feed_dict={X:train_X,Y:train_Y})\n",
    "        accuracy_ = np.mean(np.argmax(sess.run(out,feed_dict={X:train_X,Y:train_Y}),axis=1) == np.argmax(train_Y,axis=1))\n",
    "        loss_trace.append(loss_)\n",
    "        accuracy_trace.append(accuracy_)\n",
    "        if (((i+1) >= 100) and ((i+1) % 100 == 0 )) :\n",
    "            print 'Epoch:',(i+1),'loss:',loss_,'accuracy:',accuracy_\n",
    "                            \n",
    "    print 'Final training result:','loss:',loss_,'accuracy:',accuracy_    \n",
    "    loss_test = sess.run(cost,feed_dict={X:test_X,Y:test_Y})\n",
    "    test_pred = np.argmax(sess.run(out,feed_dict={X:test_X,Y:test_Y}),axis=1)\n",
    "    accuracy_test = np.mean(test_pred == np.argmax(test_Y,axis=1))\n",
    "    print 'Results on test dataset:','loss:',loss_test,'accuracy:',accuracy_test    \n",
    "    \n",
    "\n",
    "    \n",
    "    "
   ]
  },
  {
   "cell_type": "markdown",
   "metadata": {
    "deletable": true,
    "editable": true
   },
   "source": [
    "# Listing 2-19a. Display the Actual digits vs the Predicted digits along with the images of the actual digits "
   ]
  },
  {
   "cell_type": "code",
   "execution_count": 50,
   "metadata": {
    "collapsed": false,
    "deletable": true,
    "editable": true
   },
   "outputs": [
    {
     "name": "stdout",
     "output_type": "stream",
     "text": [
      "Actual digits:    [7 2 1 0 4 1 4 9 5 9]\n",
      "Predicted digits: [7 2 1 0 4 1 4 9 6 9]\n",
      "Actual images of the digits follow:\n"
     ]
    },
    {
     "data": {
      "image/png": "[encoded data removed]",
      "text/plain": [
       "<matplotlib.figure.Figure at 0x7fc7fed16190>"
      ]
     },
     "metadata": {},
     "output_type": "display_data"
    }
   ],
   "source": [
    "import matplotlib.pyplot as plt\n",
    "%matplotlib inline\n",
    "f, a = plt.subplots(1, 10, figsize=(10, 2))\n",
    "print 'Actual digits:   ', np.argmax(test_Y[0:10],axis=1)\n",
    "print 'Predicted digits:',test_pred[0:10]\n",
    "print 'Actual images of the digits follow:'\n",
    "for i in range(10):\n",
    "        a[i].imshow(np.reshape(test_X[i],(28, 28)))"
   ]
  },
  {
   "cell_type": "markdown",
   "metadata": {
    "deletable": true,
    "editable": true
   },
   "source": [
    "# Listing 2-20. Multiclass Classification with Softmax function using Stochastic Gradient Descent "
   ]
  },
  {
   "cell_type": "code",
   "execution_count": 42,
   "metadata": {
    "collapsed": false,
    "deletable": true,
    "editable": true
   },
   "outputs": [
    {
     "name": "stdout",
     "output_type": "stream",
     "text": [
      "Extracting MNIST_data/train-images-idx3-ubyte.gz\n",
      "Extracting MNIST_data/train-labels-idx1-ubyte.gz\n",
      "Extracting MNIST_data/t10k-images-idx3-ubyte.gz\n",
      "Extracting MNIST_data/t10k-labels-idx1-ubyte.gz\n",
      "Epoch: 100 Average loss: 0.217315986888 accuracy: 0.938909090909\n",
      "Epoch: 200 Average loss: 0.212252810056 accuracy: 0.939781818182\n",
      "Epoch: 300 Average loss: 0.21044576737 accuracy: 0.940036363636\n",
      "Epoch: 400 Average loss: 0.209570910985 accuracy: 0.940236363636\n",
      "Epoch: 500 Average loss: 0.209083208171 accuracy: 0.940509090909\n",
      "Epoch: 600 Average loss: 0.208780150793 accuracy: 0.940636363636\n",
      "Epoch: 700 Average loss: 0.208576056226 accuracy: 0.940618181818\n",
      "Epoch: 800 Average loss: 0.208429297805 accuracy: 0.940672727273\n",
      "Epoch: 900 Average loss: 0.208318462426 accuracy: 0.9408\n",
      "Epoch: 1000 Average loss: 0.208231372183 accuracy: 0.940872727273\n",
      "Final epoch training results: Average loss: 0.208231372183 accuracy: 0.940872727273\n",
      "Results on test dataset: Average loss: 0.459081 accuracy: 0.9155\n"
     ]
    }
   ],
   "source": [
    "def read_infile():\n",
    "    mnist = input_data.read_data_sets(\"MNIST_data/\", one_hot=True)\n",
    "    train_X, train_Y,test_X, test_Y = mnist.train.images, mnist.train.labels, mnist.test.images, mnist.test.labels\n",
    "    return train_X, train_Y,test_X, test_Y\n",
    "\n",
    "\n",
    "def weights_biases_placeholder(n_dim,n_classes):\n",
    "    X = tf.placeholder(tf.float32,[None,n_dim])\n",
    "    Y = tf.placeholder(tf.float32,[None,n_classes])\n",
    "    w = tf.Variable(tf.random_normal([n_dim,n_classes],stddev=0.01),name='weights')\n",
    "    b = tf.Variable(tf.random_normal([n_classes]),name='weights')\n",
    "    return X,Y,w,b\n",
    "\n",
    "def forward_pass(w,b,X):\n",
    "    out = tf.matmul(X,w) + b\n",
    "    return out \n",
    "\n",
    "def multiclass_cost(out,Y):\n",
    "    cost = tf.reduce_mean(tf.nn.softmax_cross_entropy_with_logits(logits=out,labels=Y))\n",
    "    return cost\n",
    "\n",
    "def init():\n",
    "    return tf.global_variables_initializer()\n",
    "    \n",
    "    \n",
    "def train_op(learning_rate,cost):\n",
    "    op_train = tf.train.AdamOptimizer(learning_rate).minimize(cost)\n",
    "    return op_train\n",
    "    \n",
    "\n",
    "\n",
    "train_X, train_Y,test_X, test_Y = read_infile()\n",
    "X,Y,w,b = weights_biases_placeholder(train_X.shape[1],train_Y.shape[1])\n",
    "out = forward_pass(w,b,X)\n",
    "cost = multiclass_cost(out,Y)\n",
    "learning_rate,epochs,batch_size = 0.01,1000,1000\n",
    "num_batches = train_X.shape[0]/batch_size\n",
    "op_train = train_op(learning_rate,cost)\n",
    "init = init()\n",
    "epoch_cost_trace = []\n",
    "epoch_accuracy_trace = []\n",
    "\n",
    "with tf.Session() as sess:\n",
    "    sess.run(init)\n",
    "    \n",
    "    for i in xrange(epochs):\n",
    "        epoch_cost,epoch_accuracy = 0,0\n",
    "   \n",
    "        for j in xrange(num_batches):\n",
    "            sess.run(op_train,feed_dict={X:train_X[j*batch_size:(j+1)*batch_size],Y:train_Y[j*batch_size:(j+1)*batch_size]})\n",
    "            actual_batch_size = train_X[j*batch_size:(j+1)*batch_size].shape[0]\n",
    "            epoch_cost += actual_batch_size*sess.run(cost,feed_dict={X:train_X[j*batch_size:(j+1)*batch_size],Y:train_Y[j*batch_size:(j+1)*batch_size]})\n",
    "            \n",
    "            \n",
    "        epoch_cost = epoch_cost/float(train_X.shape[0])\n",
    "        epoch_accuracy = np.mean(np.argmax(sess.run(out,feed_dict={X:train_X,Y:train_Y}),axis=1) == np.argmax(train_Y,axis=1))\n",
    "        epoch_cost_trace.append(epoch_cost)\n",
    "        epoch_accuracy_trace.append(epoch_accuracy)\n",
    "        \n",
    "        if (((i +1) >= 100) and ((i+1) % 100 == 0 )) :\n",
    "            print 'Epoch:',(i+1),'Average loss:',epoch_cost,'accuracy:',epoch_accuracy\n",
    "                            \n",
    "    print 'Final epoch training results:','Average loss:',epoch_cost,'accuracy:',epoch_accuracy\n",
    "    loss_test = sess.run(cost,feed_dict={X:test_X,Y:test_Y})\n",
    "    test_pred = np.argmax(sess.run(out,feed_dict={X:test_X,Y:test_Y}),axis=1)\n",
    "    accuracy_test = np.mean(test_pred == np.argmax(test_Y,axis=1))\n",
    "    print 'Results on test dataset:','Average loss:',loss_test,'accuracy:',accuracy_test    \n",
    "    "
   ]
  },
  {
   "cell_type": "markdown",
   "metadata": {
    "deletable": true,
    "editable": true
   },
   "source": [
    "# Listing 2-20a. Actual Digit vs Predicted digits for Softmax classification through Stochastic Gradient descent "
   ]
  },
  {
   "cell_type": "code",
   "execution_count": 43,
   "metadata": {
    "collapsed": false,
    "deletable": true,
    "editable": true
   },
   "outputs": [
    {
     "name": "stdout",
     "output_type": "stream",
     "text": [
      "Actual digits:    [7 2 1 0 4 1 4 9 5 9]\n",
      "Predicted digits: [7 2 1 0 4 1 4 9 6 9]\n",
      "Actual images of the digits follow:\n"
     ]
    },
    {
     "data": {
      "image/png": "[encoded data removed]",
      "text/plain": [
       "<matplotlib.figure.Figure at 0x7fc80061cbd0>"
      ]
     },
     "metadata": {},
     "output_type": "display_data"
    }
   ],
   "source": [
    "import matplotlib.pyplot as plt\n",
    "%matplotlib inline\n",
    "f, a = plt.subplots(1, 10, figsize=(10, 2))\n",
    "print 'Actual digits:   ', np.argmax(test_Y[0:10],axis=1)\n",
    "print 'Predicted digits:',test_pred[0:10]\n",
    "print 'Actual images of the digits follow:'\n",
    "for i in range(10):\n",
    "        a[i].imshow(np.reshape(test_X[i],(28, 28)))"
   ]
  }
 ],
 "metadata": {
  "kernelspec": {
   "display_name": "Python 2",
   "language": "python",
   "name": "python2"
  },
  "language_info": {
   "codemirror_mode": {
    "name": "ipython",
    "version": 2
   },
   "file_extension": ".py",
   "mimetype": "text/x-python",
   "name": "python",
   "nbconvert_exporter": "python",
   "pygments_lexer": "ipython2",
   "version": "2.7.12"
  }
 },
 "nbformat": 4,
 "nbformat_minor": 2
}
